{
 "cells": [
  {
   "cell_type": "markdown",
   "id": "9411bf0d",
   "metadata": {},
   "source": [
    "  # Visualisation of Strong Association Rules"
   ]
  },
  {
   "cell_type": "markdown",
   "id": "b036e471",
   "metadata": {},
   "source": [
    "### Imports"
   ]
  },
  {
   "cell_type": "code",
   "execution_count": null,
   "id": "e95a9c8d",
   "metadata": {},
   "outputs": [],
   "source": [
    "import warnings\n",
    "warnings.filterwarnings('ignore')\n",
    "import pandas as pd\n",
    "from d3graph import d3graph, vec2adjmat"
   ]
  },
  {
   "cell_type": "code",
   "execution_count": null,
   "id": "2c4cc782",
   "metadata": {},
   "outputs": [],
   "source": [
    "def get_data(file):\n",
    "    data = pd.read_csv(file)\n",
    "    print(data.shape)\n",
    "    return data"
   ]
  },
  {
   "cell_type": "code",
   "execution_count": null,
   "id": "1225df11",
   "metadata": {},
   "outputs": [],
   "source": [
    "file = \"strong_rules_youtube.csv\"\n",
    "strong_rules_youtube = get_data(file)\n",
    "strong_rules_youtube"
   ]
  },
  {
   "cell_type": "markdown",
   "id": "060717a3",
   "metadata": {},
   "source": [
    "## Network Visualisation of The Patterns in Youtube Reviews"
   ]
  },
  {
   "cell_type": "code",
   "execution_count": null,
   "id": "01ba2f31",
   "metadata": {},
   "outputs": [],
   "source": [
    "# Initialize\n",
    "d3 = d3graph()\n",
    "#df = pd.DataFrame(data=apriori_rules, columns=['source', 'target', 'weight'])\n",
    "#d3.d3graph(df, showfig=False)\n",
    "#d3.D3graph.set_node_properties(color='cluster')\n",
    "\n",
    "adjmat = vec2adjmat(strong_rules_youtube['antecedents'], strong_rules_youtube['consequents'], weight=strong_rules_youtube['lift'])\n",
    "d3.graph(adjmat)\n",
    "#edge_size = [5 if x in concern_list else 1 for x in adjmat.columns.astype(str)]\n",
    "d3.set_node_properties(color='cluster')\n",
    "d3.set_edge_properties(directed=True, scaler='minmax')\n",
    "# edge_distance = 0, scaler='minmax'\n",
    "# Show\n",
    "d3.show()"
   ]
  }
 ],
 "metadata": {
  "kernelspec": {
   "display_name": "Python 3 (ipykernel)",
   "language": "python",
   "name": "python3"
  },
  "language_info": {
   "codemirror_mode": {
    "name": "ipython",
    "version": 3
   },
   "file_extension": ".py",
   "mimetype": "text/x-python",
   "name": "python",
   "nbconvert_exporter": "python",
   "pygments_lexer": "ipython3",
   "version": "3.10.9"
  }
 },
 "nbformat": 4,
 "nbformat_minor": 5
}
