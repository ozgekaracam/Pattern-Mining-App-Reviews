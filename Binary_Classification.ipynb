{
 "cells": [
  {
   "cell_type": "code",
   "execution_count": null,
   "id": "8137406d",
   "metadata": {},
   "outputs": [],
   "source": [
    "# Binary Classification of Ethical Concerns"
   ]
  },
  {
   "cell_type": "code",
   "execution_count": null,
   "id": "c2f3d719",
   "metadata": {},
   "outputs": [],
   "source": [
    "import warnings\n",
    "warnings.filterwarnings('ignore')"
   ]
  },
  {
   "cell_type": "code",
   "execution_count": null,
   "id": "8de4e255",
   "metadata": {},
   "outputs": [],
   "source": [
    "import pandas as pd\n",
    "import numpy as np"
   ]
  },
  {
   "cell_type": "code",
   "execution_count": null,
   "id": "a9655368",
   "metadata": {},
   "outputs": [],
   "source": [
    "%store -r df"
   ]
  },
  {
   "cell_type": "code",
   "execution_count": null,
   "id": "9c1c5078",
   "metadata": {},
   "outputs": [],
   "source": [
    "dataset = df\n",
    "dataset.head()"
   ]
  },
  {
   "cell_type": "code",
   "execution_count": null,
   "id": "ba352d51",
   "metadata": {},
   "outputs": [],
   "source": [
    "df_concern = dataset.query(\"cat1 not in ['Other', 'none', 'Noise']\")\n",
    "print(\"number of all reviews:\", len(dataset))\n",
    "print(\"number of reviews with concerns:\", len(df_concern))"
   ]
  },
  {
   "cell_type": "code",
   "execution_count": null,
   "id": "14c0c58b",
   "metadata": {},
   "outputs": [],
   "source": [
    "dataset[\"target\"] = np.where(dataset[\"cat1\"].isin(['Other', 'none', 'Noise']), 0, 1)\n",
    "X = dataset['content']\n",
    "y = dataset['target']"
   ]
  },
  {
   "cell_type": "code",
   "execution_count": null,
   "id": "6daa848a",
   "metadata": {},
   "outputs": [],
   "source": [
    "def factorize_concern(dataset):\n",
    "    dataset['cat1_id'] = dataset['cat1'].factorize()[0]\n",
    "    concern_id_df = dataset[['cat1', 'cat1_id']].drop_duplicates().sort_values('cat1_id')\n",
    "    concern_to_id = dict(concern_id_df.values)\n",
    "    id_to_concern = dict(concern_id_df[['cat1_id', 'cat1']].values)\n",
    "    return dataset, concern_id_df, concern_to_id, id_to_concern"
   ]
  },
  {
   "cell_type": "code",
   "execution_count": null,
   "id": "436216dc",
   "metadata": {},
   "outputs": [],
   "source": [
    "from sklearn.model_selection import train_test_split\n",
    "\n",
    "X_train, X_test, y_train, y_test, indices_train, indices_test = train_test_split(X, y, dataset.index, test_size=0.75, random_state=42)\n"
   ]
  },
  {
   "cell_type": "code",
   "execution_count": null,
   "id": "a9a3d2cd",
   "metadata": {},
   "outputs": [],
   "source": [
    "len(y_test)"
   ]
  },
  {
   "cell_type": "code",
   "execution_count": null,
   "id": "a11bd79e",
   "metadata": {},
   "outputs": [],
   "source": [
    "dataset"
   ]
  },
  {
   "cell_type": "code",
   "execution_count": null,
   "id": "2035690f",
   "metadata": {},
   "outputs": [],
   "source": [
    "# Beginning with Default Vectorizers\n",
    "from sklearn.feature_extraction.text import TfidfVectorizer\n",
    "tfidf = TfidfVectorizer()\n",
    "# Setting up fidf X data\n",
    "X_train_tfidf = tfidf.fit_transform(X_train).toarray()\n",
    "X_test_tfidf = tfidf.transform(X_test).toarray()"
   ]
  },
  {
   "cell_type": "code",
   "execution_count": null,
   "id": "3211db66",
   "metadata": {},
   "outputs": [],
   "source": [
    "models = {}\n",
    "\n",
    "# Random Forest\n",
    "from sklearn.ensemble import RandomForestClassifier\n",
    "models['Random Forest'] = RandomForestClassifier()\n",
    "\n",
    "# Support Vector Machines\n",
    "from sklearn.svm import LinearSVC\n",
    "models['Support Vector Machines'] = LinearSVC()\n",
    "\n",
    "# Naive Bayes\n",
    "from sklearn.naive_bayes import MultinomialNB\n",
    "models['Naive Bayes'] = MultinomialNB(alpha=0.4, fit_prior=False)\n",
    "\n",
    "# Logistic Regression\n",
    "from sklearn.linear_model import LogisticRegression\n",
    "models['Logistic Regression'] = LogisticRegression()\n",
    "\n",
    "# MLP Classifier\n",
    "from sklearn.neural_network import MLPClassifier\n",
    "models['MLP']  = MLPClassifier(\n",
    "                        hidden_layer_sizes=(15,),\n",
    "                        random_state=5,\n",
    "#                         max_iter=3000,\n",
    "                        alpha=0.0008\n",
    "                       )"
   ]
  },
  {
   "cell_type": "code",
   "execution_count": null,
   "id": "b88f9f02",
   "metadata": {},
   "outputs": [],
   "source": [
    "from sklearn.metrics import accuracy_score, precision_score, recall_score, f1_score\n",
    "\n",
    "accuracy, f1score, precision, recall = {}, {}, {}, {}\n",
    "\n",
    "for key in models.keys():\n",
    "    \n",
    "    # Fit the classifier\n",
    "    models[key].fit(X_train_tfidf, y_train)\n",
    "    \n",
    "    # Make predictions\n",
    "    predictions = models[key].predict(X_test_tfidf)\n",
    "    \n",
    "    # Calculate metrics\n",
    "    accuracy[key] = accuracy_score(predictions, y_test)\n",
    "    precision[key] = precision_score(predictions, y_test)\n",
    "    recall[key] = recall_score(predictions, y_test)\n",
    "    f1score[key] = f1_score(predictions, y_test)"
   ]
  },
  {
   "cell_type": "code",
   "execution_count": null,
   "id": "7e0d585e",
   "metadata": {},
   "outputs": [],
   "source": [
    "# With all metrics stored, we can use pandas to view the data as a table:\n",
    "\n",
    "df_model = pd.DataFrame(index=models.keys(), columns=['Accuracy', 'Precision', 'Recall', 'F1-score'])\n",
    "df_model['Accuracy'] = accuracy.values()\n",
    "df_model['Precision'] = precision.values()\n",
    "df_model['Recall'] = recall.values()\n",
    "df_model['F1-score'] = f1score.values()\n",
    "df_model.to_csv('binary_classification_results.csv')\n",
    "df_model"
   ]
  },
  {
   "cell_type": "code",
   "execution_count": null,
   "id": "7daee863",
   "metadata": {},
   "outputs": [],
   "source": [
    "rf = models['Naive Bayes']\n",
    "preds = rf.predict(X_test_tfidf)\n",
    "preds"
   ]
  },
  {
   "cell_type": "code",
   "execution_count": null,
   "id": "64342d1f",
   "metadata": {},
   "outputs": [],
   "source": [
    "def add_predict(df, preds, indices_test):\n",
    "    for ind, pred in zip(indices_test, preds):\n",
    "        df.at[ind, \"predicted_bc\"] = int(pred)\n",
    "    return df"
   ]
  },
  {
   "cell_type": "code",
   "execution_count": null,
   "id": "5b7e43fd",
   "metadata": {},
   "outputs": [],
   "source": [
    "dataset_pred_bc = add_predict(dataset, preds, indices_test)"
   ]
  },
  {
   "cell_type": "code",
   "execution_count": null,
   "id": "31739b38",
   "metadata": {},
   "outputs": [],
   "source": [
    "dataset_pred_bc = dataset_pred_bc[pd.notnull(dataset_pred_bc['predicted_bc'])]\n",
    "dataset_pred_bc['predicted_bc'].unique()"
   ]
  },
  {
   "cell_type": "code",
   "execution_count": null,
   "id": "6aaf04dd",
   "metadata": {},
   "outputs": [],
   "source": [
    "dataset_pred_bc = dataset_pred_bc[dataset_pred_bc['predicted_bc']==1]\n",
    "dataset_pred_bc['cat1'].unique()"
   ]
  },
  {
   "cell_type": "code",
   "execution_count": null,
   "id": "fe3a8b65",
   "metadata": {},
   "outputs": [],
   "source": [
    "%store dataset_pred_bc"
   ]
  },
  {
   "cell_type": "code",
   "execution_count": null,
   "id": "70514918",
   "metadata": {},
   "outputs": [],
   "source": [
    "df_count = dataset_pred_bc.groupby(['cat1', 'target']).clean_content.count().reset_index(name='counts')\n",
    "df_count"
   ]
  },
  {
   "cell_type": "code",
   "execution_count": null,
   "id": "360ee3fd",
   "metadata": {},
   "outputs": [],
   "source": [
    "print(len(dataset_pred_bc[dataset_pred_bc['predicted_bc']==1]))\n",
    "print(len(X_test_tfidf))"
   ]
  },
  {
   "cell_type": "code",
   "execution_count": null,
   "id": "f1e9f1e5",
   "metadata": {},
   "outputs": [],
   "source": []
  }
 ],
 "metadata": {
  "kernelspec": {
   "display_name": "Python 3 (ipykernel)",
   "language": "python",
   "name": "python3"
  },
  "language_info": {
   "codemirror_mode": {
    "name": "ipython",
    "version": 3
   },
   "file_extension": ".py",
   "mimetype": "text/x-python",
   "name": "python",
   "nbconvert_exporter": "python",
   "pygments_lexer": "ipython3",
   "version": "3.10.9"
  }
 },
 "nbformat": 4,
 "nbformat_minor": 5
}
