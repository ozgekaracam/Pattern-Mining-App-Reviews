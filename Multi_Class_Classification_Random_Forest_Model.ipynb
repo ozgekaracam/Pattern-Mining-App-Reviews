{
 "cells": [
  {
   "cell_type": "code",
   "execution_count": null,
   "id": "0ee1fb4a",
   "metadata": {},
   "outputs": [],
   "source": [
    "# Multi-class Random Forest Model"
   ]
  },
  {
   "cell_type": "code",
   "execution_count": null,
   "id": "33ed2609",
   "metadata": {},
   "outputs": [],
   "source": [
    "import warnings\n",
    "warnings.filterwarnings('ignore')"
   ]
  },
  {
   "cell_type": "code",
   "execution_count": null,
   "id": "8de4e255",
   "metadata": {},
   "outputs": [],
   "source": [
    "import matplotlib.pyplot as plt\n",
    "import pandas as pd\n",
    "from sklearn.feature_extraction.text import TfidfVectorizer\n",
    "from sklearn.model_selection import train_test_split\n",
    "from sklearn.svm import LinearSVC\n",
    "import numpy as np\n",
    "import pandas as pd\n",
    "from sklearn.metrics import accuracy_score, f1_score, recall_score, precision_score\n",
    "from sklearn.model_selection import StratifiedKFold\n",
    "from sklearn.utils import check_X_y\n",
    "import time\n",
    "from statistics import mean"
   ]
  },
  {
   "cell_type": "code",
   "execution_count": null,
   "id": "a9655368",
   "metadata": {},
   "outputs": [],
   "source": [
    "%store -r dataset_pred_bc"
   ]
  },
  {
   "cell_type": "code",
   "execution_count": null,
   "id": "9c1c5078",
   "metadata": {},
   "outputs": [],
   "source": [
    "dataset = dataset_pred_bc\n",
    "dataset.head()"
   ]
  },
  {
   "cell_type": "code",
   "execution_count": null,
   "id": "94b509a8",
   "metadata": {},
   "outputs": [],
   "source": [
    "fig = plt.figure(figsize=(8, 6))\n",
    "ax = fig.add_subplot(111)\n",
    "\n",
    "dataset.groupby('cat1').clean_content.count().sort_values(ascending=True).plot.barh(ylim=0, color='#1f77b4', ax=ax)\n",
    "#plt.title('Frequency of Ethical concerns')\n",
    "\n",
    "plt.xlabel('Number of reviews', fontsize=14)  # Increase font size to 12\n",
    "plt.ylabel('Ethical concerns', fontsize=14)  # Increase font size to 12\n",
    "\n",
    "# Increase font size of tick labels on both axes\n",
    "ax.tick_params(axis='x', labelsize=14)  # Increase x-axis tick label font size to 10\n",
    "ax.tick_params(axis='y', labelsize=14)  # Increase y-axis tick label font size to 10\n",
    "\n",
    "plt.show()"
   ]
  },
  {
   "cell_type": "code",
   "execution_count": null,
   "id": "bb0390e3",
   "metadata": {},
   "outputs": [],
   "source": [
    "dataset.groupby('cat1').clean_content.count().sort_values(ascending=True).to_csv('all_concern.csv')"
   ]
  },
  {
   "cell_type": "code",
   "execution_count": null,
   "id": "562c7515",
   "metadata": {},
   "outputs": [],
   "source": [
    "def clean_no_concern(dataset):\n",
    "    df = dataset[pd.notnull(dataset['clean_content'])]\n",
    "    df = df.query(\"cat1 not in ['Other', 'none', 'Noise']\")\n",
    "    # get a function here to define top\n",
    "    df_count = df.groupby('cat1').clean_content.count().reset_index(name='counts')\n",
    "    top_list = df_count[df_count['counts'] > 50]['cat1']\n",
    "    top_list = top_list.to_list()\n",
    "    dataset = dataset.query(\"cat1  in @top_list\")\n",
    "    print(dataset.groupby('cat1').clean_content.count())\n",
    "    return dataset"
   ]
  },
  {
   "cell_type": "code",
   "execution_count": null,
   "id": "6eb42174",
   "metadata": {},
   "outputs": [],
   "source": [
    "dataset = clean_no_concern(dataset)"
   ]
  },
  {
   "cell_type": "code",
   "execution_count": null,
   "id": "6daa848a",
   "metadata": {},
   "outputs": [],
   "source": [
    "def factorize_concern(dataset):\n",
    "    dataset['cat1_id'] = dataset['cat1'].factorize()[0]\n",
    "    concern_id_df = dataset[['cat1', 'cat1_id']].drop_duplicates().sort_values('cat1_id')\n",
    "    concern_to_id = dict(concern_id_df.values)\n",
    "    id_to_concern = dict(concern_id_df[['cat1_id', 'cat1']].values)\n",
    "    return dataset, concern_id_df, concern_to_id, id_to_concern"
   ]
  },
  {
   "cell_type": "code",
   "execution_count": null,
   "id": "add84adb",
   "metadata": {},
   "outputs": [],
   "source": [
    "dataset, concern_id_df, concern_to_id, id_to_concern = factorize_concern(dataset)"
   ]
  },
  {
   "cell_type": "code",
   "execution_count": null,
   "id": "433b9c4f",
   "metadata": {},
   "outputs": [],
   "source": [
    "concern_to_id"
   ]
  },
  {
   "cell_type": "code",
   "execution_count": null,
   "id": "66f393b7",
   "metadata": {},
   "outputs": [],
   "source": [
    "dataset"
   ]
  },
  {
   "cell_type": "code",
   "execution_count": null,
   "id": "7f73a261",
   "metadata": {},
   "outputs": [],
   "source": [
    "def vectorizer(dataset):\n",
    "    tfidf = TfidfVectorizer(sublinear_tf=True, min_df=5, norm='l2', encoding='latin-1', ngram_range=(1, 2))\n",
    "    features = tfidf.fit_transform(dataset.clean_content).toarray()\n",
    "    labels = dataset.cat1_id\n",
    "    print(\"features: \", features.shape)\n",
    "    return  features, labels"
   ]
  },
  {
   "cell_type": "code",
   "execution_count": null,
   "id": "282c15ea",
   "metadata": {},
   "outputs": [],
   "source": [
    "features, labels = vectorizer(dataset)"
   ]
  },
  {
   "cell_type": "code",
   "execution_count": null,
   "id": "70c8f7f3",
   "metadata": {},
   "outputs": [],
   "source": [
    "def add_predict(df, y_pred, indices_test):\n",
    "    for ind, pred in zip(indices_test, y_pred):\n",
    "        df.at[ind, \"predicted\"] = id_to_concern[int(pred)]\n",
    "    return df"
   ]
  },
  {
   "cell_type": "code",
   "execution_count": null,
   "id": "f1396485",
   "metadata": {},
   "outputs": [],
   "source": [
    "from sklearn.ensemble import RandomForestClassifier\n",
    "from sklearn.svm import SVC\n",
    "from sklearn.linear_model import LogisticRegression\n",
    "from sklearn.neural_network import MLPClassifier\n",
    "from sklearn.naive_bayes import MultinomialNB\n",
    "from sklearn.model_selection import train_test_split, StratifiedKFold, RepeatedStratifiedKFold, GridSearchCV, cross_val_score, cross_validate\n",
    "\n",
    "\n",
    "modelRF = RandomForestClassifier(random_state=1,\n",
    "                              bootstrap=False,\n",
    "                              max_depth=150,\n",
    "                              max_features='log2',\n",
    "                              min_samples_leaf=1,\n",
    "                              min_samples_split=0.0015,\n",
    "#                               min_samples_split=0.475,\n",
    "                              n_estimators=200)\n",
    "X_train, X_test, y_train, y_test, indices_train, indices_test = train_test_split(features, labels, dataset.index,\n",
    "                                                                                     test_size=0.33, random_state=0)\n",
    "\n",
    "modelRF.fit(X_train, y_train)\n",
    "y_pred = modelRF.predict(X_test)\n",
    "print(\"predicted dataset length: \", len(indices_test))\n",
    "\n",
    "predict_dataset = add_predict(dataset, y_pred, indices_test)\n",
    "\n",
    "    "
   ]
  },
  {
   "cell_type": "code",
   "execution_count": null,
   "id": "985920bc",
   "metadata": {},
   "outputs": [],
   "source": [
    "predict_dataset['clean_content'] = predict_dataset.clean_content.apply(lambda x: x.split(' '))\n",
    "predict_dataset['clean_content']"
   ]
  },
  {
   "cell_type": "code",
   "execution_count": null,
   "id": "d128ca49",
   "metadata": {},
   "outputs": [],
   "source": [
    "predict_dataset['predicted'].unique()\n",
    "predict_dataset = predict_dataset[pd.notnull(predict_dataset['predicted'])]\n",
    "predict_dataset['predicted'].unique()"
   ]
  },
  {
   "cell_type": "code",
   "execution_count": null,
   "id": "768c4dfb",
   "metadata": {},
   "outputs": [],
   "source": [
    "wrong_predictions = predict_dataset[predict_dataset['predicted'] != predict_dataset['cat1']]\n",
    "print(wrong_predictions[['cat1', 'predicted']])"
   ]
  },
  {
   "cell_type": "code",
   "execution_count": null,
   "id": "be3c2ef9",
   "metadata": {},
   "outputs": [],
   "source": [
    "len(predict_dataset['predicted'])"
   ]
  },
  {
   "cell_type": "code",
   "execution_count": null,
   "id": "731ba457",
   "metadata": {},
   "outputs": [],
   "source": [
    "%store predict_dataset"
   ]
  },
  {
   "cell_type": "code",
   "execution_count": null,
   "id": "d9412ff7",
   "metadata": {},
   "outputs": [],
   "source": [
    "predict_dataset['predicted'].unique()"
   ]
  },
  {
   "cell_type": "code",
   "execution_count": null,
   "id": "6aaf04dd",
   "metadata": {},
   "outputs": [],
   "source": [
    "df_count = predict_dataset.groupby(['predicted', 'app_name']).clean_content.count().sort_values(ascending=False).reset_index(name='counts')\n",
    "df_count.to_csv('predicted_concern_per_app.csv')"
   ]
  },
  {
   "cell_type": "code",
   "execution_count": null,
   "id": "70514918",
   "metadata": {},
   "outputs": [],
   "source": [
    "df_count"
   ]
  },
  {
   "cell_type": "code",
   "execution_count": null,
   "id": "f80749cd",
   "metadata": {},
   "outputs": [],
   "source": [
    "import matplotlib.pyplot as plt\n",
    "import seaborn as sns\n",
    "\n",
    "# Assuming you have a DataFrame named df_count with columns: predicted, app_name, and counts\n",
    "\n",
    "# Group the DataFrame by app_name\n",
    "grouped_df = df_count.groupby('app_name')\n",
    "\n",
    "# Plotting\n",
    "fig, ax = plt.subplots(figsize=(8, 6))  # Adjust the figsize as needed\n",
    "colors = sns.color_palette(\"tab20\", len(df_count['app_name'].unique()))\n",
    "\n",
    "\n",
    "for i, (group, data) in enumerate(grouped_df):\n",
    "    ax.barh(data['predicted'], data['counts'], color=colors[i], label=group)\n",
    "\n",
    "# Customize the plot\n",
    "\n",
    "plt.xlabel('Number of reviews', fontsize=14)  # Increase font size to 12\n",
    "plt.ylabel('Predicted concerns', fontsize=14)  # Increase font size to 12\n",
    "\n",
    "# Increase font size of tick labels on both axes\n",
    "ax.tick_params(axis='x', labelsize=14)  # Increase x-axis tick label font size to 10\n",
    "ax.tick_params(axis='y', labelsize=14)  # Increase y-axis tick label font size to 10\n",
    "ax.legend()\n",
    "\n",
    "plt.xticks()  # Rotate x-axis labels if needed\n",
    "\n",
    "# Show the plot\n",
    "plt.show()\n"
   ]
  },
  {
   "cell_type": "code",
   "execution_count": null,
   "id": "9d7462b8",
   "metadata": {},
   "outputs": [],
   "source": [
    "# Group the DataFrame by app_name\n",
    "grouped_df = df_count.groupby('app_name')\n",
    "\n",
    "print(grouped_df)"
   ]
  },
  {
   "cell_type": "code",
   "execution_count": null,
   "id": "86af6e09",
   "metadata": {},
   "outputs": [],
   "source": [
    "# Get the categories and sort them in ascending order based on total counts\n",
    "categories = df_count['predicted'].unique()\n",
    "total_counts = df_count.groupby('predicted')['counts'].sum().reset_index()\n",
    "sorted_counts = total_counts.sort_values('counts')\n",
    "sorted_categories = sorted_counts['predicted']\n"
   ]
  },
  {
   "cell_type": "code",
   "execution_count": null,
   "id": "3f443f75",
   "metadata": {},
   "outputs": [],
   "source": [
    "predict_dataset.groupby(['predicted','app_name']).clean_content.count()"
   ]
  },
  {
   "cell_type": "code",
   "execution_count": null,
   "id": "bebe23be",
   "metadata": {},
   "outputs": [],
   "source": []
  },
  {
   "cell_type": "code",
   "execution_count": null,
   "id": "5246d66e",
   "metadata": {},
   "outputs": [],
   "source": []
  }
 ],
 "metadata": {
  "kernelspec": {
   "display_name": "Python 3 (ipykernel)",
   "language": "python",
   "name": "python3"
  },
  "language_info": {
   "codemirror_mode": {
    "name": "ipython",
    "version": 3
   },
   "file_extension": ".py",
   "mimetype": "text/x-python",
   "name": "python",
   "nbconvert_exporter": "python",
   "pygments_lexer": "ipython3",
   "version": "3.10.9"
  }
 },
 "nbformat": 4,
 "nbformat_minor": 5
}
