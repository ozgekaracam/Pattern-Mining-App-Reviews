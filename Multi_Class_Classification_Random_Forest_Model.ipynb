{
 "cells": [
  {
   "cell_type": "code",
   "execution_count": 1,
   "id": "8de4e255",
   "metadata": {},
   "outputs": [],
   "source": [
    "import matplotlib.pyplot as plt\n",
    "import pandas as pd\n",
    "from sklearn.feature_extraction.text import TfidfVectorizer\n",
    "from sklearn.model_selection import train_test_split\n",
    "from sklearn.svm import LinearSVC\n",
    "import numpy as np\n",
    "import pandas as pd\n",
    "from sklearn.metrics import accuracy_score, f1_score, recall_score, precision_score\n",
    "from sklearn.model_selection import StratifiedKFold\n",
    "from sklearn.utils import check_X_y\n",
    "import time\n",
    "from statistics import mean"
   ]
  },
  {
   "cell_type": "code",
   "execution_count": 2,
   "id": "a9655368",
   "metadata": {},
   "outputs": [],
   "source": [
    "%store -r dataset_pred_bc"
   ]
  },
  {
   "cell_type": "code",
   "execution_count": 3,
   "id": "9c1c5078",
   "metadata": {},
   "outputs": [
    {
     "data": {
      "text/html": [
       "<div>\n",
       "<style scoped>\n",
       "    .dataframe tbody tr th:only-of-type {\n",
       "        vertical-align: middle;\n",
       "    }\n",
       "\n",
       "    .dataframe tbody tr th {\n",
       "        vertical-align: top;\n",
       "    }\n",
       "\n",
       "    .dataframe thead th {\n",
       "        text-align: right;\n",
       "    }\n",
       "</style>\n",
       "<table border=\"1\" class=\"dataframe\">\n",
       "  <thead>\n",
       "    <tr style=\"text-align: right;\">\n",
       "      <th></th>\n",
       "      <th>reviewId</th>\n",
       "      <th>userName</th>\n",
       "      <th>userImage</th>\n",
       "      <th>content</th>\n",
       "      <th>score</th>\n",
       "      <th>thumbsUpCount</th>\n",
       "      <th>reviewCreatedVersion</th>\n",
       "      <th>at</th>\n",
       "      <th>replyContent</th>\n",
       "      <th>repliedAt</th>\n",
       "      <th>app_name</th>\n",
       "      <th>cat1</th>\n",
       "      <th>inex1</th>\n",
       "      <th>clean_content</th>\n",
       "      <th>cat1_clean</th>\n",
       "      <th>target</th>\n",
       "      <th>predicted_bc</th>\n",
       "    </tr>\n",
       "  </thead>\n",
       "  <tbody>\n",
       "    <tr>\n",
       "      <th>0</th>\n",
       "      <td>gp:AOqpTOF5UoM-6ovAjd8ULHKjifvZCeJyoJWi4F_IaPO...</td>\n",
       "      <td>Max Toon</td>\n",
       "      <td>https://play-lh.googleusercontent.com/a-/AOh14...</td>\n",
       "      <td>This is yhr best app ever im littetally addict...</td>\n",
       "      <td>5</td>\n",
       "      <td>0</td>\n",
       "      <td>18.1.3</td>\n",
       "      <td>2020-12-11 19:51:21</td>\n",
       "      <td>NaN</td>\n",
       "      <td>NaN</td>\n",
       "      <td>tiktok</td>\n",
       "      <td>addiction</td>\n",
       "      <td>internal</td>\n",
       "      <td>yhr app im littetally addict thing personally ...</td>\n",
       "      <td>addiction</td>\n",
       "      <td>1</td>\n",
       "      <td>1.0</td>\n",
       "    </tr>\n",
       "    <tr>\n",
       "      <th>2</th>\n",
       "      <td>gp:AOqpTOF1KZT5ggeQqGpl62-V6QzBxhROn0eutiZMm9l...</td>\n",
       "      <td>izzyiscool</td>\n",
       "      <td>https://play-lh.googleusercontent.com/a-/AOh14...</td>\n",
       "      <td>I love this app like im addicted</td>\n",
       "      <td>5</td>\n",
       "      <td>0</td>\n",
       "      <td>NaN</td>\n",
       "      <td>2020-10-12 1:38:54</td>\n",
       "      <td>NaN</td>\n",
       "      <td>NaN</td>\n",
       "      <td>tiktok</td>\n",
       "      <td>addiction</td>\n",
       "      <td>internal</td>\n",
       "      <td>love app im addict</td>\n",
       "      <td>addiction</td>\n",
       "      <td>1</td>\n",
       "      <td>1.0</td>\n",
       "    </tr>\n",
       "    <tr>\n",
       "      <th>3</th>\n",
       "      <td>gp:AOqpTOFRuZB5C5PEpW09xVx3pts_63bcWm9DFf4rajR...</td>\n",
       "      <td>Kristopher Lyons</td>\n",
       "      <td>https://play-lh.googleusercontent.com/a-/AOh14...</td>\n",
       "      <td>This app allows pedophile acts, underage half ...</td>\n",
       "      <td>1</td>\n",
       "      <td>17</td>\n",
       "      <td>17.9.5</td>\n",
       "      <td>2020-12-03 9:55:01</td>\n",
       "      <td>NaN</td>\n",
       "      <td>NaN</td>\n",
       "      <td>tiktok</td>\n",
       "      <td>inappropriate content</td>\n",
       "      <td>internal</td>\n",
       "      <td>app pedophile act underage half naked girl ina...</td>\n",
       "      <td>inappropriate content</td>\n",
       "      <td>1</td>\n",
       "      <td>1.0</td>\n",
       "    </tr>\n",
       "    <tr>\n",
       "      <th>5</th>\n",
       "      <td>gp:AOqpTOEQ6a1gB6lPbUeoN88uBXzVwRwTKLfzTkAHVq8...</td>\n",
       "      <td>Nelly Muizniece</td>\n",
       "      <td>https://play-lh.googleusercontent.com/a-/AOh14...</td>\n",
       "      <td>I will NEVER delete this app EVER IT'S SO GOOD...</td>\n",
       "      <td>5</td>\n",
       "      <td>0</td>\n",
       "      <td>17.5.4</td>\n",
       "      <td>2020-12-10 17:51:15</td>\n",
       "      <td>NaN</td>\n",
       "      <td>NaN</td>\n",
       "      <td>tiktok</td>\n",
       "      <td>addiction</td>\n",
       "      <td>internal</td>\n",
       "      <td>delete app good download reccomend picky rat s...</td>\n",
       "      <td>addiction</td>\n",
       "      <td>1</td>\n",
       "      <td>1.0</td>\n",
       "    </tr>\n",
       "    <tr>\n",
       "      <th>6</th>\n",
       "      <td>gp:AOqpTOGlTe2kTFOBYaiP5SYp-9NZVm6xLmlG6H4TyfU...</td>\n",
       "      <td>Eddie Briz</td>\n",
       "      <td>https://play-lh.googleusercontent.com/-5ahM7oT...</td>\n",
       "      <td>This app is not real it should not be on or al...</td>\n",
       "      <td>1</td>\n",
       "      <td>0</td>\n",
       "      <td>NaN</td>\n",
       "      <td>2020-11-14 16:09:46</td>\n",
       "      <td>NaN</td>\n",
       "      <td>NaN</td>\n",
       "      <td>tiktok</td>\n",
       "      <td>inappropriate content</td>\n",
       "      <td>internal</td>\n",
       "      <td>app real allow app safe app kid adult</td>\n",
       "      <td>inappropriate content</td>\n",
       "      <td>1</td>\n",
       "      <td>1.0</td>\n",
       "    </tr>\n",
       "  </tbody>\n",
       "</table>\n",
       "</div>"
      ],
      "text/plain": [
       "                                            reviewId          userName  \\\n",
       "0  gp:AOqpTOF5UoM-6ovAjd8ULHKjifvZCeJyoJWi4F_IaPO...          Max Toon   \n",
       "2  gp:AOqpTOF1KZT5ggeQqGpl62-V6QzBxhROn0eutiZMm9l...        izzyiscool   \n",
       "3  gp:AOqpTOFRuZB5C5PEpW09xVx3pts_63bcWm9DFf4rajR...  Kristopher Lyons   \n",
       "5  gp:AOqpTOEQ6a1gB6lPbUeoN88uBXzVwRwTKLfzTkAHVq8...   Nelly Muizniece   \n",
       "6  gp:AOqpTOGlTe2kTFOBYaiP5SYp-9NZVm6xLmlG6H4TyfU...        Eddie Briz   \n",
       "\n",
       "                                           userImage  \\\n",
       "0  https://play-lh.googleusercontent.com/a-/AOh14...   \n",
       "2  https://play-lh.googleusercontent.com/a-/AOh14...   \n",
       "3  https://play-lh.googleusercontent.com/a-/AOh14...   \n",
       "5  https://play-lh.googleusercontent.com/a-/AOh14...   \n",
       "6  https://play-lh.googleusercontent.com/-5ahM7oT...   \n",
       "\n",
       "                                             content  score  thumbsUpCount  \\\n",
       "0  This is yhr best app ever im littetally addict...      5              0   \n",
       "2                   I love this app like im addicted      5              0   \n",
       "3  This app allows pedophile acts, underage half ...      1             17   \n",
       "5  I will NEVER delete this app EVER IT'S SO GOOD...      5              0   \n",
       "6  This app is not real it should not be on or al...      1              0   \n",
       "\n",
       "  reviewCreatedVersion                   at replyContent repliedAt app_name  \\\n",
       "0               18.1.3  2020-12-11 19:51:21          NaN       NaN   tiktok   \n",
       "2                  NaN   2020-10-12 1:38:54          NaN       NaN   tiktok   \n",
       "3               17.9.5   2020-12-03 9:55:01          NaN       NaN   tiktok   \n",
       "5               17.5.4  2020-12-10 17:51:15          NaN       NaN   tiktok   \n",
       "6                  NaN  2020-11-14 16:09:46          NaN       NaN   tiktok   \n",
       "\n",
       "                    cat1     inex1  \\\n",
       "0              addiction  internal   \n",
       "2              addiction  internal   \n",
       "3  inappropriate content  internal   \n",
       "5              addiction  internal   \n",
       "6  inappropriate content  internal   \n",
       "\n",
       "                                       clean_content             cat1_clean  \\\n",
       "0  yhr app im littetally addict thing personally ...              addiction   \n",
       "2                                 love app im addict              addiction   \n",
       "3  app pedophile act underage half naked girl ina...  inappropriate content   \n",
       "5  delete app good download reccomend picky rat s...              addiction   \n",
       "6              app real allow app safe app kid adult  inappropriate content   \n",
       "\n",
       "   target  predicted_bc  \n",
       "0       1           1.0  \n",
       "2       1           1.0  \n",
       "3       1           1.0  \n",
       "5       1           1.0  \n",
       "6       1           1.0  "
      ]
     },
     "execution_count": 3,
     "metadata": {},
     "output_type": "execute_result"
    }
   ],
   "source": [
    "dataset = dataset_pred_bc\n",
    "dataset.head()"
   ]
  },
  {
   "cell_type": "code",
   "execution_count": 4,
   "id": "94b509a8",
   "metadata": {},
   "outputs": [
    {
     "data": {
      "image/png": "[encoded data removed]",
      "text/plain": [
       "<Figure size 800x600 with 1 Axes>"
      ]
     },
     "metadata": {},
     "output_type": "display_data"
    }
   ],
   "source": [
    "fig = plt.figure(figsize=(8, 6))\n",
    "ax = fig.add_subplot(111)\n",
    "\n",
    "dataset.groupby('cat1').clean_content.count().sort_values(ascending=True).plot.barh(ylim=0, color='#1f77b4', ax=ax)\n",
    "#plt.title('Frequency of Ethical concerns')\n",
    "\n",
    "plt.xlabel('Number of reviews', fontsize=14)  # Increase font size to 12\n",
    "plt.ylabel('Ethical concerns', fontsize=14)  # Increase font size to 12\n",
    "\n",
    "# Increase font size of tick labels on both axes\n",
    "ax.tick_params(axis='x', labelsize=14)  # Increase x-axis tick label font size to 10\n",
    "ax.tick_params(axis='y', labelsize=14)  # Increase y-axis tick label font size to 10\n",
    "\n",
    "plt.show()"
   ]
  },
  {
   "cell_type": "code",
   "execution_count": 5,
   "id": "bb0390e3",
   "metadata": {},
   "outputs": [],
   "source": [
    "dataset.groupby('cat1').clean_content.count().sort_values(ascending=True).to_csv('all_concern.csv')"
   ]
  },
  {
   "cell_type": "code",
   "execution_count": 6,
   "id": "562c7515",
   "metadata": {},
   "outputs": [],
   "source": [
    "def clean_no_concern(dataset):\n",
    "    df = dataset[pd.notnull(dataset['clean_content'])]\n",
    "    df = df.query(\"cat1 not in ['Other', 'none', 'Noise']\")\n",
    "    # get a function here to define top\n",
    "    df_count = df.groupby('cat1').clean_content.count().reset_index(name='counts')\n",
    "    top_list = df_count[df_count['counts'] > 50]['cat1']\n",
    "    top_list = top_list.to_list()\n",
    "    dataset = dataset.query(\"cat1  in @top_list\")\n",
    "    print(dataset.groupby('cat1').clean_content.count())\n",
    "    return dataset"
   ]
  },
  {
   "cell_type": "code",
   "execution_count": 7,
   "id": "6eb42174",
   "metadata": {},
   "outputs": [
    {
     "name": "stdout",
     "output_type": "stream",
     "text": [
      "cat1\n",
      "accountability                 103\n",
      "addiction                       79\n",
      "censorship                     132\n",
      "cyberbullying/toxicity         103\n",
      "discrimination                 209\n",
      "identity theft                  75\n",
      "inappropriate content          157\n",
      "privacy                        107\n",
      "safety                         103\n",
      "scam                           113\n",
      "spreading false information     81\n",
      "Name: clean_content, dtype: int64\n"
     ]
    }
   ],
   "source": [
    "dataset = clean_no_concern(dataset)"
   ]
  },
  {
   "cell_type": "code",
   "execution_count": 9,
   "id": "6daa848a",
   "metadata": {},
   "outputs": [],
   "source": [
    "def factorize_concern(dataset):\n",
    "    dataset['cat1_id'] = dataset['cat1'].factorize()[0]\n",
    "    concern_id_df = dataset[['cat1', 'cat1_id']].drop_duplicates().sort_values('cat1_id')\n",
    "    concern_to_id = dict(concern_id_df.values)\n",
    "    id_to_concern = dict(concern_id_df[['cat1_id', 'cat1']].values)\n",
    "    return dataset, concern_id_df, concern_to_id, id_to_concern"
   ]
  },
  {
   "cell_type": "code",
   "execution_count": 10,
   "id": "add84adb",
   "metadata": {},
   "outputs": [
    {
     "name": "stderr",
     "output_type": "stream",
     "text": [
      "/var/folders/z5/8gb5zsq90kz9zvv3q5_7tkhw0000gn/T/ipykernel_52857/669406585.py:2: SettingWithCopyWarning: \n",
      "A value is trying to be set on a copy of a slice from a DataFrame.\n",
      "Try using .loc[row_indexer,col_indexer] = value instead\n",
      "\n",
      "See the caveats in the documentation: https://pandas.pydata.org/pandas-docs/stable/user_guide/indexing.html#returning-a-view-versus-a-copy\n",
      "  dataset['cat1_id'] = dataset['cat1'].factorize()[0]\n"
     ]
    }
   ],
   "source": [
    "dataset, concern_id_df, concern_to_id, id_to_concern = factorize_concern(dataset)"
   ]
  },
  {
   "cell_type": "code",
   "execution_count": 11,
   "id": "433b9c4f",
   "metadata": {},
   "outputs": [
    {
     "data": {
      "text/plain": [
       "{'addiction': 0,\n",
       " 'inappropriate content': 1,\n",
       " 'privacy': 2,\n",
       " 'discrimination': 3,\n",
       " 'spreading false information': 4,\n",
       " 'censorship': 5,\n",
       " 'safety': 6,\n",
       " 'identity theft': 7,\n",
       " 'cyberbullying/toxicity': 8,\n",
       " 'scam': 9,\n",
       " 'accountability': 10}"
      ]
     },
     "execution_count": 11,
     "metadata": {},
     "output_type": "execute_result"
    }
   ],
   "source": [
    "concern_to_id"
   ]
  },
  {
   "cell_type": "code",
   "execution_count": 12,
   "id": "66f393b7",
   "metadata": {
    "scrolled": true
   },
   "outputs": [
    {
     "data": {
      "text/html": [
       "<div>\n",
       "<style scoped>\n",
       "    .dataframe tbody tr th:only-of-type {\n",
       "        vertical-align: middle;\n",
       "    }\n",
       "\n",
       "    .dataframe tbody tr th {\n",
       "        vertical-align: top;\n",
       "    }\n",
       "\n",
       "    .dataframe thead th {\n",
       "        text-align: right;\n",
       "    }\n",
       "</style>\n",
       "<table border=\"1\" class=\"dataframe\">\n",
       "  <thead>\n",
       "    <tr style=\"text-align: right;\">\n",
       "      <th></th>\n",
       "      <th>reviewId</th>\n",
       "      <th>userName</th>\n",
       "      <th>userImage</th>\n",
       "      <th>content</th>\n",
       "      <th>score</th>\n",
       "      <th>thumbsUpCount</th>\n",
       "      <th>reviewCreatedVersion</th>\n",
       "      <th>at</th>\n",
       "      <th>replyContent</th>\n",
       "      <th>repliedAt</th>\n",
       "      <th>app_name</th>\n",
       "      <th>cat1</th>\n",
       "      <th>inex1</th>\n",
       "      <th>clean_content</th>\n",
       "      <th>cat1_clean</th>\n",
       "      <th>target</th>\n",
       "      <th>predicted_bc</th>\n",
       "      <th>cat1_id</th>\n",
       "    </tr>\n",
       "  </thead>\n",
       "  <tbody>\n",
       "    <tr>\n",
       "      <th>0</th>\n",
       "      <td>gp:AOqpTOF5UoM-6ovAjd8ULHKjifvZCeJyoJWi4F_IaPO...</td>\n",
       "      <td>Max Toon</td>\n",
       "      <td>https://play-lh.googleusercontent.com/a-/AOh14...</td>\n",
       "      <td>This is yhr best app ever im littetally addict...</td>\n",
       "      <td>5</td>\n",
       "      <td>0</td>\n",
       "      <td>18.1.3</td>\n",
       "      <td>2020-12-11 19:51:21</td>\n",
       "      <td>NaN</td>\n",
       "      <td>NaN</td>\n",
       "      <td>tiktok</td>\n",
       "      <td>addiction</td>\n",
       "      <td>internal</td>\n",
       "      <td>yhr app im littetally addict thing personally ...</td>\n",
       "      <td>addiction</td>\n",
       "      <td>1</td>\n",
       "      <td>1.0</td>\n",
       "      <td>0</td>\n",
       "    </tr>\n",
       "    <tr>\n",
       "      <th>2</th>\n",
       "      <td>gp:AOqpTOF1KZT5ggeQqGpl62-V6QzBxhROn0eutiZMm9l...</td>\n",
       "      <td>izzyiscool</td>\n",
       "      <td>https://play-lh.googleusercontent.com/a-/AOh14...</td>\n",
       "      <td>I love this app like im addicted</td>\n",
       "      <td>5</td>\n",
       "      <td>0</td>\n",
       "      <td>NaN</td>\n",
       "      <td>2020-10-12 1:38:54</td>\n",
       "      <td>NaN</td>\n",
       "      <td>NaN</td>\n",
       "      <td>tiktok</td>\n",
       "      <td>addiction</td>\n",
       "      <td>internal</td>\n",
       "      <td>love app im addict</td>\n",
       "      <td>addiction</td>\n",
       "      <td>1</td>\n",
       "      <td>1.0</td>\n",
       "      <td>0</td>\n",
       "    </tr>\n",
       "    <tr>\n",
       "      <th>3</th>\n",
       "      <td>gp:AOqpTOFRuZB5C5PEpW09xVx3pts_63bcWm9DFf4rajR...</td>\n",
       "      <td>Kristopher Lyons</td>\n",
       "      <td>https://play-lh.googleusercontent.com/a-/AOh14...</td>\n",
       "      <td>This app allows pedophile acts, underage half ...</td>\n",
       "      <td>1</td>\n",
       "      <td>17</td>\n",
       "      <td>17.9.5</td>\n",
       "      <td>2020-12-03 9:55:01</td>\n",
       "      <td>NaN</td>\n",
       "      <td>NaN</td>\n",
       "      <td>tiktok</td>\n",
       "      <td>inappropriate content</td>\n",
       "      <td>internal</td>\n",
       "      <td>app pedophile act underage half naked girl ina...</td>\n",
       "      <td>inappropriate content</td>\n",
       "      <td>1</td>\n",
       "      <td>1.0</td>\n",
       "      <td>1</td>\n",
       "    </tr>\n",
       "    <tr>\n",
       "      <th>5</th>\n",
       "      <td>gp:AOqpTOEQ6a1gB6lPbUeoN88uBXzVwRwTKLfzTkAHVq8...</td>\n",
       "      <td>Nelly Muizniece</td>\n",
       "      <td>https://play-lh.googleusercontent.com/a-/AOh14...</td>\n",
       "      <td>I will NEVER delete this app EVER IT'S SO GOOD...</td>\n",
       "      <td>5</td>\n",
       "      <td>0</td>\n",
       "      <td>17.5.4</td>\n",
       "      <td>2020-12-10 17:51:15</td>\n",
       "      <td>NaN</td>\n",
       "      <td>NaN</td>\n",
       "      <td>tiktok</td>\n",
       "      <td>addiction</td>\n",
       "      <td>internal</td>\n",
       "      <td>delete app good download reccomend picky rat s...</td>\n",
       "      <td>addiction</td>\n",
       "      <td>1</td>\n",
       "      <td>1.0</td>\n",
       "      <td>0</td>\n",
       "    </tr>\n",
       "    <tr>\n",
       "      <th>6</th>\n",
       "      <td>gp:AOqpTOGlTe2kTFOBYaiP5SYp-9NZVm6xLmlG6H4TyfU...</td>\n",
       "      <td>Eddie Briz</td>\n",
       "      <td>https://play-lh.googleusercontent.com/-5ahM7oT...</td>\n",
       "      <td>This app is not real it should not be on or al...</td>\n",
       "      <td>1</td>\n",
       "      <td>0</td>\n",
       "      <td>NaN</td>\n",
       "      <td>2020-11-14 16:09:46</td>\n",
       "      <td>NaN</td>\n",
       "      <td>NaN</td>\n",
       "      <td>tiktok</td>\n",
       "      <td>inappropriate content</td>\n",
       "      <td>internal</td>\n",
       "      <td>app real allow app safe app kid adult</td>\n",
       "      <td>inappropriate content</td>\n",
       "      <td>1</td>\n",
       "      <td>1.0</td>\n",
       "      <td>1</td>\n",
       "    </tr>\n",
       "    <tr>\n",
       "      <th>...</th>\n",
       "      <td>...</td>\n",
       "      <td>...</td>\n",
       "      <td>...</td>\n",
       "      <td>...</td>\n",
       "      <td>...</td>\n",
       "      <td>...</td>\n",
       "      <td>...</td>\n",
       "      <td>...</td>\n",
       "      <td>...</td>\n",
       "      <td>...</td>\n",
       "      <td>...</td>\n",
       "      <td>...</td>\n",
       "      <td>...</td>\n",
       "      <td>...</td>\n",
       "      <td>...</td>\n",
       "      <td>...</td>\n",
       "      <td>...</td>\n",
       "      <td>...</td>\n",
       "    </tr>\n",
       "    <tr>\n",
       "      <th>3055</th>\n",
       "      <td>gp:AOqpTOHKZVqOi833BqSbJVF5RuLcRFT5MP1rdGEq7LA...</td>\n",
       "      <td>Rain Shawn</td>\n",
       "      <td>https://play-lh.googleusercontent.com/-FqNg-r1...</td>\n",
       "      <td>My old acc was freaking reported and I cant ac...</td>\n",
       "      <td>1</td>\n",
       "      <td>0</td>\n",
       "      <td>NaN</td>\n",
       "      <td>2020-09-12 15:21:31</td>\n",
       "      <td>NaN</td>\n",
       "      <td>NaN</td>\n",
       "      <td>facebook</td>\n",
       "      <td>censorship</td>\n",
       "      <td>internal</td>\n",
       "      <td>acc freak report access report fake account us...</td>\n",
       "      <td>censorship</td>\n",
       "      <td>1</td>\n",
       "      <td>1.0</td>\n",
       "      <td>5</td>\n",
       "    </tr>\n",
       "    <tr>\n",
       "      <th>3061</th>\n",
       "      <td>gp:AOqpTOFi3_m8coYqfeTmF057lfeDO9KDOkYEYIJt5t6...</td>\n",
       "      <td>Michael Pate</td>\n",
       "      <td>https://play-lh.googleusercontent.com/a-/AOh14...</td>\n",
       "      <td>I used Uber for years without any issues, but ...</td>\n",
       "      <td>1</td>\n",
       "      <td>30</td>\n",
       "      <td>4.284.10006</td>\n",
       "      <td>2019-10-19 17:50:09</td>\n",
       "      <td>Hi Michael, we are sorry to hear that your acc...</td>\n",
       "      <td>2019-10-20 9:01:24</td>\n",
       "      <td>uber</td>\n",
       "      <td>accountability</td>\n",
       "      <td>internal</td>\n",
       "      <td>uber year issue recently make mistake app phon...</td>\n",
       "      <td>accountability</td>\n",
       "      <td>1</td>\n",
       "      <td>1.0</td>\n",
       "      <td>10</td>\n",
       "    </tr>\n",
       "    <tr>\n",
       "      <th>3073</th>\n",
       "      <td>gp:AOqpTOFV1PlG4cToSbtgqMc6CDZ1_dWKC3cjlrzvdTV...</td>\n",
       "      <td>Mel W.</td>\n",
       "      <td>https://play-lh.googleusercontent.com/a-/AOh14...</td>\n",
       "      <td>Due to the extreme difficulty of trying to con...</td>\n",
       "      <td>1</td>\n",
       "      <td>0</td>\n",
       "      <td>4.285.10004</td>\n",
       "      <td>2019-12-17 2:43:09</td>\n",
       "      <td>NaN</td>\n",
       "      <td>NaN</td>\n",
       "      <td>uber</td>\n",
       "      <td>accountability</td>\n",
       "      <td>internal</td>\n",
       "      <td>due extreme difficulty contact customer servic...</td>\n",
       "      <td>accountability</td>\n",
       "      <td>1</td>\n",
       "      <td>1.0</td>\n",
       "      <td>10</td>\n",
       "    </tr>\n",
       "    <tr>\n",
       "      <th>3086</th>\n",
       "      <td>gp:AOqpTOEjxZFJWLk92JAZ5YP85cBaVRy8a7hiCi9CZo0...</td>\n",
       "      <td>Jan Anthony</td>\n",
       "      <td>https://play-lh.googleusercontent.com/a-/AOh14...</td>\n",
       "      <td>If you lost your phone and cannot access your ...</td>\n",
       "      <td>1</td>\n",
       "      <td>1</td>\n",
       "      <td>4.209.10003</td>\n",
       "      <td>2020-07-26 2:17:39</td>\n",
       "      <td>NaN</td>\n",
       "      <td>NaN</td>\n",
       "      <td>uber</td>\n",
       "      <td>accountability</td>\n",
       "      <td>internal</td>\n",
       "      <td>lose phone access uber account email link emai...</td>\n",
       "      <td>accountability</td>\n",
       "      <td>1</td>\n",
       "      <td>1.0</td>\n",
       "      <td>10</td>\n",
       "    </tr>\n",
       "    <tr>\n",
       "      <th>3100</th>\n",
       "      <td>gp:AOqpTOFvSj-FFZzy1uftIFaVZNTSPuIc1z3beSjvSCJ...</td>\n",
       "      <td>Moe. S Malek Murtuja</td>\n",
       "      <td>https://play-lh.googleusercontent.com/a-/AOh14...</td>\n",
       "      <td>CAUTION THIS APP DOESNT ALLOW YOU TO DELETE YO...</td>\n",
       "      <td>1</td>\n",
       "      <td>1</td>\n",
       "      <td>4.214.10002</td>\n",
       "      <td>2018-07-04 12:34:02</td>\n",
       "      <td>Hi Moe, you can only delete a payment method i...</td>\n",
       "      <td>2018-07-06 7:30:25</td>\n",
       "      <td>uber</td>\n",
       "      <td>privacy</td>\n",
       "      <td>internal</td>\n",
       "      <td>caution app doesnt delete card detail beware</td>\n",
       "      <td>privacy</td>\n",
       "      <td>1</td>\n",
       "      <td>1.0</td>\n",
       "      <td>2</td>\n",
       "    </tr>\n",
       "  </tbody>\n",
       "</table>\n",
       "<p>1262 rows × 18 columns</p>\n",
       "</div>"
      ],
      "text/plain": [
       "                                               reviewId              userName  \\\n",
       "0     gp:AOqpTOF5UoM-6ovAjd8ULHKjifvZCeJyoJWi4F_IaPO...              Max Toon   \n",
       "2     gp:AOqpTOF1KZT5ggeQqGpl62-V6QzBxhROn0eutiZMm9l...            izzyiscool   \n",
       "3     gp:AOqpTOFRuZB5C5PEpW09xVx3pts_63bcWm9DFf4rajR...      Kristopher Lyons   \n",
       "5     gp:AOqpTOEQ6a1gB6lPbUeoN88uBXzVwRwTKLfzTkAHVq8...       Nelly Muizniece   \n",
       "6     gp:AOqpTOGlTe2kTFOBYaiP5SYp-9NZVm6xLmlG6H4TyfU...            Eddie Briz   \n",
       "...                                                 ...                   ...   \n",
       "3055  gp:AOqpTOHKZVqOi833BqSbJVF5RuLcRFT5MP1rdGEq7LA...            Rain Shawn   \n",
       "3061  gp:AOqpTOFi3_m8coYqfeTmF057lfeDO9KDOkYEYIJt5t6...          Michael Pate   \n",
       "3073  gp:AOqpTOFV1PlG4cToSbtgqMc6CDZ1_dWKC3cjlrzvdTV...                Mel W.   \n",
       "3086  gp:AOqpTOEjxZFJWLk92JAZ5YP85cBaVRy8a7hiCi9CZo0...           Jan Anthony   \n",
       "3100  gp:AOqpTOFvSj-FFZzy1uftIFaVZNTSPuIc1z3beSjvSCJ...  Moe. S Malek Murtuja   \n",
       "\n",
       "                                              userImage  \\\n",
       "0     https://play-lh.googleusercontent.com/a-/AOh14...   \n",
       "2     https://play-lh.googleusercontent.com/a-/AOh14...   \n",
       "3     https://play-lh.googleusercontent.com/a-/AOh14...   \n",
       "5     https://play-lh.googleusercontent.com/a-/AOh14...   \n",
       "6     https://play-lh.googleusercontent.com/-5ahM7oT...   \n",
       "...                                                 ...   \n",
       "3055  https://play-lh.googleusercontent.com/-FqNg-r1...   \n",
       "3061  https://play-lh.googleusercontent.com/a-/AOh14...   \n",
       "3073  https://play-lh.googleusercontent.com/a-/AOh14...   \n",
       "3086  https://play-lh.googleusercontent.com/a-/AOh14...   \n",
       "3100  https://play-lh.googleusercontent.com/a-/AOh14...   \n",
       "\n",
       "                                                content  score  thumbsUpCount  \\\n",
       "0     This is yhr best app ever im littetally addict...      5              0   \n",
       "2                      I love this app like im addicted      5              0   \n",
       "3     This app allows pedophile acts, underage half ...      1             17   \n",
       "5     I will NEVER delete this app EVER IT'S SO GOOD...      5              0   \n",
       "6     This app is not real it should not be on or al...      1              0   \n",
       "...                                                 ...    ...            ...   \n",
       "3055  My old acc was freaking reported and I cant ac...      1              0   \n",
       "3061  I used Uber for years without any issues, but ...      1             30   \n",
       "3073  Due to the extreme difficulty of trying to con...      1              0   \n",
       "3086  If you lost your phone and cannot access your ...      1              1   \n",
       "3100  CAUTION THIS APP DOESNT ALLOW YOU TO DELETE YO...      1              1   \n",
       "\n",
       "     reviewCreatedVersion                   at  \\\n",
       "0                  18.1.3  2020-12-11 19:51:21   \n",
       "2                     NaN   2020-10-12 1:38:54   \n",
       "3                  17.9.5   2020-12-03 9:55:01   \n",
       "5                  17.5.4  2020-12-10 17:51:15   \n",
       "6                     NaN  2020-11-14 16:09:46   \n",
       "...                   ...                  ...   \n",
       "3055                  NaN  2020-09-12 15:21:31   \n",
       "3061          4.284.10006  2019-10-19 17:50:09   \n",
       "3073          4.285.10004   2019-12-17 2:43:09   \n",
       "3086          4.209.10003   2020-07-26 2:17:39   \n",
       "3100          4.214.10002  2018-07-04 12:34:02   \n",
       "\n",
       "                                           replyContent           repliedAt  \\\n",
       "0                                                   NaN                 NaN   \n",
       "2                                                   NaN                 NaN   \n",
       "3                                                   NaN                 NaN   \n",
       "5                                                   NaN                 NaN   \n",
       "6                                                   NaN                 NaN   \n",
       "...                                                 ...                 ...   \n",
       "3055                                                NaN                 NaN   \n",
       "3061  Hi Michael, we are sorry to hear that your acc...  2019-10-20 9:01:24   \n",
       "3073                                                NaN                 NaN   \n",
       "3086                                                NaN                 NaN   \n",
       "3100  Hi Moe, you can only delete a payment method i...  2018-07-06 7:30:25   \n",
       "\n",
       "      app_name                   cat1     inex1  \\\n",
       "0       tiktok              addiction  internal   \n",
       "2       tiktok              addiction  internal   \n",
       "3       tiktok  inappropriate content  internal   \n",
       "5       tiktok              addiction  internal   \n",
       "6       tiktok  inappropriate content  internal   \n",
       "...        ...                    ...       ...   \n",
       "3055  facebook             censorship  internal   \n",
       "3061      uber         accountability  internal   \n",
       "3073      uber         accountability  internal   \n",
       "3086      uber         accountability  internal   \n",
       "3100      uber                privacy  internal   \n",
       "\n",
       "                                          clean_content  \\\n",
       "0     yhr app im littetally addict thing personally ...   \n",
       "2                                    love app im addict   \n",
       "3     app pedophile act underage half naked girl ina...   \n",
       "5     delete app good download reccomend picky rat s...   \n",
       "6                 app real allow app safe app kid adult   \n",
       "...                                                 ...   \n",
       "3055  acc freak report access report fake account us...   \n",
       "3061  uber year issue recently make mistake app phon...   \n",
       "3073  due extreme difficulty contact customer servic...   \n",
       "3086  lose phone access uber account email link emai...   \n",
       "3100       caution app doesnt delete card detail beware   \n",
       "\n",
       "                 cat1_clean  target  predicted_bc  cat1_id  \n",
       "0                 addiction       1           1.0        0  \n",
       "2                 addiction       1           1.0        0  \n",
       "3     inappropriate content       1           1.0        1  \n",
       "5                 addiction       1           1.0        0  \n",
       "6     inappropriate content       1           1.0        1  \n",
       "...                     ...     ...           ...      ...  \n",
       "3055             censorship       1           1.0        5  \n",
       "3061         accountability       1           1.0       10  \n",
       "3073         accountability       1           1.0       10  \n",
       "3086         accountability       1           1.0       10  \n",
       "3100                privacy       1           1.0        2  \n",
       "\n",
       "[1262 rows x 18 columns]"
      ]
     },
     "execution_count": 12,
     "metadata": {},
     "output_type": "execute_result"
    }
   ],
   "source": [
    "dataset"
   ]
  },
  {
   "cell_type": "code",
   "execution_count": 13,
   "id": "7f73a261",
   "metadata": {},
   "outputs": [],
   "source": [
    "def vectorizer(dataset):\n",
    "    tfidf = TfidfVectorizer(sublinear_tf=True, min_df=5, norm='l2', encoding='latin-1', ngram_range=(1, 2))\n",
    "    features = tfidf.fit_transform(dataset.clean_content).toarray()\n",
    "    labels = dataset.cat1_id\n",
    "    print(\"features: \", features.shape)\n",
    "    return  features, labels"
   ]
  },
  {
   "cell_type": "code",
   "execution_count": 14,
   "id": "282c15ea",
   "metadata": {
    "scrolled": true
   },
   "outputs": [
    {
     "name": "stdout",
     "output_type": "stream",
     "text": [
      "features:  (1262, 815)\n"
     ]
    }
   ],
   "source": [
    "features, labels = vectorizer(dataset)"
   ]
  },
  {
   "cell_type": "code",
   "execution_count": 15,
   "id": "70c8f7f3",
   "metadata": {},
   "outputs": [],
   "source": [
    "def add_predict(df, y_pred, indices_test):\n",
    "    for ind, pred in zip(indices_test, y_pred):\n",
    "        df.at[ind, \"predicted\"] = id_to_concern[int(pred)]\n",
    "    return df"
   ]
  },
  {
   "cell_type": "code",
   "execution_count": 16,
   "id": "f1396485",
   "metadata": {
    "scrolled": true
   },
   "outputs": [
    {
     "name": "stdout",
     "output_type": "stream",
     "text": [
      "predicted dataset length:  417\n"
     ]
    },
    {
     "name": "stderr",
     "output_type": "stream",
     "text": [
      "/var/folders/z5/8gb5zsq90kz9zvv3q5_7tkhw0000gn/T/ipykernel_52857/2303982516.py:3: SettingWithCopyWarning: \n",
      "A value is trying to be set on a copy of a slice from a DataFrame.\n",
      "Try using .loc[row_indexer,col_indexer] = value instead\n",
      "\n",
      "See the caveats in the documentation: https://pandas.pydata.org/pandas-docs/stable/user_guide/indexing.html#returning-a-view-versus-a-copy\n",
      "  df.at[ind, \"predicted\"] = id_to_concern[int(pred)]\n"
     ]
    }
   ],
   "source": [
    "from sklearn.ensemble import RandomForestClassifier\n",
    "from sklearn.svm import SVC\n",
    "from sklearn.linear_model import LogisticRegression\n",
    "from sklearn.neural_network import MLPClassifier\n",
    "from sklearn.naive_bayes import MultinomialNB\n",
    "from sklearn.model_selection import train_test_split, StratifiedKFold, RepeatedStratifiedKFold, GridSearchCV, cross_val_score, cross_validate\n",
    "\n",
    "\n",
    "modelRF = RandomForestClassifier(random_state=1,\n",
    "                              bootstrap=False,\n",
    "                              max_depth=150,\n",
    "                              max_features='log2',\n",
    "                              min_samples_leaf=1,\n",
    "                              min_samples_split=0.0015,\n",
    "#                               min_samples_split=0.475,\n",
    "                              n_estimators=200)\n",
    "X_train, X_test, y_train, y_test, indices_train, indices_test = train_test_split(features, labels, dataset.index,\n",
    "                                                                                     test_size=0.33, random_state=0)\n",
    "\n",
    "modelRF.fit(X_train, y_train)\n",
    "y_pred = modelRF.predict(X_test)\n",
    "print(\"predicted dataset length: \", len(indices_test))\n",
    "\n",
    "predict_dataset = add_predict(dataset, y_pred, indices_test)\n",
    "\n",
    "    "
   ]
  },
  {
   "cell_type": "code",
   "execution_count": 17,
   "id": "985920bc",
   "metadata": {},
   "outputs": [
    {
     "name": "stderr",
     "output_type": "stream",
     "text": [
      "/var/folders/z5/8gb5zsq90kz9zvv3q5_7tkhw0000gn/T/ipykernel_52857/1753803470.py:1: SettingWithCopyWarning: \n",
      "A value is trying to be set on a copy of a slice from a DataFrame.\n",
      "Try using .loc[row_indexer,col_indexer] = value instead\n",
      "\n",
      "See the caveats in the documentation: https://pandas.pydata.org/pandas-docs/stable/user_guide/indexing.html#returning-a-view-versus-a-copy\n",
      "  predict_dataset['clean_content'] = predict_dataset.clean_content.apply(lambda x: x.split(' '))\n"
     ]
    },
    {
     "data": {
      "text/plain": [
       "0       [yhr, app, im, littetally, addict, thing, pers...\n",
       "2                                 [love, app, im, addict]\n",
       "3       [app, pedophile, act, underage, half, naked, g...\n",
       "5       [delete, app, good, download, reccomend, picky...\n",
       "6          [app, real, allow, app, safe, app, kid, adult]\n",
       "                              ...                        \n",
       "3055    [acc, freak, report, access, report, fake, acc...\n",
       "3061    [uber, year, issue, recently, make, mistake, a...\n",
       "3073    [due, extreme, difficulty, contact, customer, ...\n",
       "3086    [lose, phone, access, uber, account, email, li...\n",
       "3100    [caution, app, doesnt, delete, card, detail, b...\n",
       "Name: clean_content, Length: 1262, dtype: object"
      ]
     },
     "execution_count": 17,
     "metadata": {},
     "output_type": "execute_result"
    }
   ],
   "source": [
    "predict_dataset['clean_content'] = predict_dataset.clean_content.apply(lambda x: x.split(' '))\n",
    "predict_dataset['clean_content']"
   ]
  },
  {
   "cell_type": "code",
   "execution_count": 18,
   "id": "d128ca49",
   "metadata": {},
   "outputs": [
    {
     "data": {
      "text/plain": [
       "array(['addiction', 'inappropriate content', 'privacy', 'safety',\n",
       "       'spreading false information', 'discrimination', 'identity theft',\n",
       "       'cyberbullying/toxicity', 'censorship', 'accountability', 'scam'],\n",
       "      dtype=object)"
      ]
     },
     "execution_count": 18,
     "metadata": {},
     "output_type": "execute_result"
    }
   ],
   "source": [
    "predict_dataset['predicted'].unique()\n",
    "predict_dataset = predict_dataset[pd.notnull(predict_dataset['predicted'])]\n",
    "predict_dataset['predicted'].unique()"
   ]
  },
  {
   "cell_type": "code",
   "execution_count": 19,
   "id": "768c4dfb",
   "metadata": {},
   "outputs": [
    {
     "name": "stdout",
     "output_type": "stream",
     "text": [
      "                             cat1       predicted\n",
      "52    spreading false information          safety\n",
      "70          inappropriate content  discrimination\n",
      "74    spreading false information  discrimination\n",
      "99                         safety         privacy\n",
      "106         inappropriate content          safety\n",
      "...                           ...             ...\n",
      "2866       cyberbullying/toxicity          safety\n",
      "2942                         scam  discrimination\n",
      "2944               accountability  discrimination\n",
      "3030                      privacy  accountability\n",
      "3054               accountability  discrimination\n",
      "\n",
      "[97 rows x 2 columns]\n"
     ]
    }
   ],
   "source": [
    "wrong_predictions = predict_dataset[predict_dataset['predicted'] != predict_dataset['cat1']]\n",
    "print(wrong_predictions[['cat1', 'predicted']])"
   ]
  },
  {
   "cell_type": "code",
   "execution_count": 20,
   "id": "be3c2ef9",
   "metadata": {},
   "outputs": [
    {
     "data": {
      "text/plain": [
       "417"
      ]
     },
     "execution_count": 20,
     "metadata": {},
     "output_type": "execute_result"
    }
   ],
   "source": [
    "len(predict_dataset['predicted'])"
   ]
  },
  {
   "cell_type": "code",
   "execution_count": 21,
   "id": "731ba457",
   "metadata": {
    "scrolled": true
   },
   "outputs": [
    {
     "name": "stdout",
     "output_type": "stream",
     "text": [
      "Stored 'predict_dataset' (DataFrame)\n"
     ]
    }
   ],
   "source": [
    "%store predict_dataset"
   ]
  },
  {
   "cell_type": "code",
   "execution_count": 22,
   "id": "d9412ff7",
   "metadata": {},
   "outputs": [
    {
     "data": {
      "text/plain": [
       "array(['addiction', 'inappropriate content', 'privacy', 'safety',\n",
       "       'spreading false information', 'discrimination', 'identity theft',\n",
       "       'cyberbullying/toxicity', 'censorship', 'accountability', 'scam'],\n",
       "      dtype=object)"
      ]
     },
     "execution_count": 22,
     "metadata": {},
     "output_type": "execute_result"
    }
   ],
   "source": [
    "predict_dataset['predicted'].unique()"
   ]
  },
  {
   "cell_type": "code",
   "execution_count": 24,
   "id": "6aaf04dd",
   "metadata": {},
   "outputs": [],
   "source": [
    "df_count = predict_dataset.groupby(['predicted', 'app_name']).clean_content.count().sort_values(ascending=False).reset_index(name='counts')\n",
    "df_count.to_csv('predicted_concern_per_app.csv')"
   ]
  },
  {
   "cell_type": "code",
   "execution_count": 25,
   "id": "70514918",
   "metadata": {},
   "outputs": [
    {
     "data": {
      "text/html": [
       "<div>\n",
       "<style scoped>\n",
       "    .dataframe tbody tr th:only-of-type {\n",
       "        vertical-align: middle;\n",
       "    }\n",
       "\n",
       "    .dataframe tbody tr th {\n",
       "        vertical-align: top;\n",
       "    }\n",
       "\n",
       "    .dataframe thead th {\n",
       "        text-align: right;\n",
       "    }\n",
       "</style>\n",
       "<table border=\"1\" class=\"dataframe\">\n",
       "  <thead>\n",
       "    <tr style=\"text-align: right;\">\n",
       "      <th></th>\n",
       "      <th>predicted</th>\n",
       "      <th>app_name</th>\n",
       "      <th>counts</th>\n",
       "    </tr>\n",
       "  </thead>\n",
       "  <tbody>\n",
       "    <tr>\n",
       "      <th>0</th>\n",
       "      <td>discrimination</td>\n",
       "      <td>tiktok</td>\n",
       "      <td>56</td>\n",
       "    </tr>\n",
       "    <tr>\n",
       "      <th>1</th>\n",
       "      <td>inappropriate content</td>\n",
       "      <td>tiktok</td>\n",
       "      <td>35</td>\n",
       "    </tr>\n",
       "    <tr>\n",
       "      <th>2</th>\n",
       "      <td>cyberbullying/toxicity</td>\n",
       "      <td>tiktok</td>\n",
       "      <td>34</td>\n",
       "    </tr>\n",
       "    <tr>\n",
       "      <th>3</th>\n",
       "      <td>safety</td>\n",
       "      <td>uber</td>\n",
       "      <td>28</td>\n",
       "    </tr>\n",
       "    <tr>\n",
       "      <th>4</th>\n",
       "      <td>censorship</td>\n",
       "      <td>facebook</td>\n",
       "      <td>21</td>\n",
       "    </tr>\n",
       "    <tr>\n",
       "      <th>...</th>\n",
       "      <td>...</td>\n",
       "      <td>...</td>\n",
       "      <td>...</td>\n",
       "    </tr>\n",
       "    <tr>\n",
       "      <th>59</th>\n",
       "      <td>discrimination</td>\n",
       "      <td>alexa</td>\n",
       "      <td>1</td>\n",
       "    </tr>\n",
       "    <tr>\n",
       "      <th>60</th>\n",
       "      <td>discrimination</td>\n",
       "      <td>googlehome</td>\n",
       "      <td>1</td>\n",
       "    </tr>\n",
       "    <tr>\n",
       "      <th>61</th>\n",
       "      <td>privacy</td>\n",
       "      <td>googlehome</td>\n",
       "      <td>1</td>\n",
       "    </tr>\n",
       "    <tr>\n",
       "      <th>62</th>\n",
       "      <td>inappropriate content</td>\n",
       "      <td>facebook</td>\n",
       "      <td>1</td>\n",
       "    </tr>\n",
       "    <tr>\n",
       "      <th>63</th>\n",
       "      <td>identity theft</td>\n",
       "      <td>uber</td>\n",
       "      <td>1</td>\n",
       "    </tr>\n",
       "  </tbody>\n",
       "</table>\n",
       "<p>64 rows × 3 columns</p>\n",
       "</div>"
      ],
      "text/plain": [
       "                 predicted    app_name  counts\n",
       "0           discrimination      tiktok      56\n",
       "1    inappropriate content      tiktok      35\n",
       "2   cyberbullying/toxicity      tiktok      34\n",
       "3                   safety        uber      28\n",
       "4               censorship    facebook      21\n",
       "..                     ...         ...     ...\n",
       "59          discrimination       alexa       1\n",
       "60          discrimination  googlehome       1\n",
       "61                 privacy  googlehome       1\n",
       "62   inappropriate content    facebook       1\n",
       "63          identity theft        uber       1\n",
       "\n",
       "[64 rows x 3 columns]"
      ]
     },
     "execution_count": 25,
     "metadata": {},
     "output_type": "execute_result"
    }
   ],
   "source": [
    "df_count"
   ]
  },
  {
   "cell_type": "code",
   "execution_count": 26,
   "id": "f80749cd",
   "metadata": {},
   "outputs": [
    {
     "data": {
      "image/png": "[encoded data removed]",
      "text/plain": [
       "<Figure size 800x600 with 1 Axes>"
      ]
     },
     "metadata": {},
     "output_type": "display_data"
    }
   ],
   "source": [
    "import matplotlib.pyplot as plt\n",
    "import seaborn as sns\n",
    "\n",
    "# Assuming you have a DataFrame named df_count with columns: predicted, app_name, and counts\n",
    "\n",
    "# Group the DataFrame by app_name\n",
    "grouped_df = df_count.groupby('app_name')\n",
    "\n",
    "# Plotting\n",
    "fig, ax = plt.subplots(figsize=(8, 6))  # Adjust the figsize as needed\n",
    "colors = sns.color_palette(\"tab20\", len(df_count['app_name'].unique()))\n",
    "\n",
    "\n",
    "for i, (group, data) in enumerate(grouped_df):\n",
    "    ax.barh(data['predicted'], data['counts'], color=colors[i], label=group)\n",
    "\n",
    "# Customize the plot\n",
    "\n",
    "plt.xlabel('Number of reviews', fontsize=14)  # Increase font size to 12\n",
    "plt.ylabel('Predicted concerns', fontsize=14)  # Increase font size to 12\n",
    "\n",
    "# Increase font size of tick labels on both axes\n",
    "ax.tick_params(axis='x', labelsize=14)  # Increase x-axis tick label font size to 10\n",
    "ax.tick_params(axis='y', labelsize=14)  # Increase y-axis tick label font size to 10\n",
    "ax.legend()\n",
    "\n",
    "plt.xticks()  # Rotate x-axis labels if needed\n",
    "\n",
    "# Show the plot\n",
    "plt.show()\n"
   ]
  },
  {
   "cell_type": "code",
   "execution_count": 27,
   "id": "9d7462b8",
   "metadata": {},
   "outputs": [
    {
     "name": "stdout",
     "output_type": "stream",
     "text": [
      "<pandas.core.groupby.generic.DataFrameGroupBy object at 0x7f8d710f2830>\n"
     ]
    }
   ],
   "source": [
    "# Group the DataFrame by app_name\n",
    "grouped_df = df_count.groupby('app_name')\n",
    "\n",
    "print(grouped_df)"
   ]
  },
  {
   "cell_type": "code",
   "execution_count": 28,
   "id": "86af6e09",
   "metadata": {},
   "outputs": [],
   "source": [
    "# Get the categories and sort them in ascending order based on total counts\n",
    "categories = df_count['predicted'].unique()\n",
    "total_counts = df_count.groupby('predicted')['counts'].sum().reset_index()\n",
    "sorted_counts = total_counts.sort_values('counts')\n",
    "sorted_categories = sorted_counts['predicted']\n"
   ]
  },
  {
   "cell_type": "code",
   "execution_count": 29,
   "id": "3f443f75",
   "metadata": {},
   "outputs": [
    {
     "data": {
      "text/plain": [
       "predicted                    app_name  \n",
       "accountability               facebook       3\n",
       "                             googlehome     1\n",
       "                             instagram      2\n",
       "                             tiktok         8\n",
       "                             uber          14\n",
       "                                           ..\n",
       "spreading false information  facebook       2\n",
       "                             instagram      5\n",
       "                             linkedin       1\n",
       "                             tiktok         5\n",
       "                             youtube       13\n",
       "Name: clean_content, Length: 64, dtype: int64"
      ]
     },
     "execution_count": 29,
     "metadata": {},
     "output_type": "execute_result"
    }
   ],
   "source": [
    "predict_dataset.groupby(['predicted','app_name']).clean_content.count()"
   ]
  },
  {
   "cell_type": "code",
   "execution_count": null,
   "id": "bebe23be",
   "metadata": {},
   "outputs": [],
   "source": []
  },
  {
   "cell_type": "code",
   "execution_count": null,
   "id": "5246d66e",
   "metadata": {},
   "outputs": [],
   "source": []
  }
 ],
 "metadata": {
  "kernelspec": {
   "display_name": "Python 3 (ipykernel)",
   "language": "python",
   "name": "python3"
  },
  "language_info": {
   "codemirror_mode": {
    "name": "ipython",
    "version": 3
   },
   "file_extension": ".py",
   "mimetype": "text/x-python",
   "name": "python",
   "nbconvert_exporter": "python",
   "pygments_lexer": "ipython3",
   "version": "3.10.9"
  }
 },
 "nbformat": 4,
 "nbformat_minor": 5
}
