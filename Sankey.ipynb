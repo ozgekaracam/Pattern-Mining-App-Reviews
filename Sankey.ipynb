{
 "cells": [
  {
   "cell_type": "markdown",
   "id": "9411bf0d",
   "metadata": {},
   "source": [
    "  # Visualisation of Strong Association Rules"
   ]
  },
  {
   "cell_type": "markdown",
   "id": "b036e471",
   "metadata": {},
   "source": [
    "### Imports"
   ]
  },
  {
   "cell_type": "code",
   "execution_count": null,
   "id": "f168c6c9",
   "metadata": {},
   "outputs": [],
   "source": [
    "import warnings\n",
    "warnings.filterwarnings('ignore')\n",
    "import pandas as pd\n",
    "import numpy as np\n",
    "import matplotlib.pyplot as plt\n",
    "import time"
   ]
  },
  {
   "cell_type": "code",
   "execution_count": null,
   "id": "e95a9c8d",
   "metadata": {},
   "outputs": [],
   "source": [
    "import seaborn as sns\n",
    "from mlxtend.preprocessing import TransactionEncoder\n",
    "from mlxtend.frequent_patterns import apriori\n",
    "from mlxtend.frequent_patterns import fpgrowth\n",
    "from mlxtend.frequent_patterns import association_rules"
   ]
  },
  {
   "cell_type": "code",
   "execution_count": null,
   "id": "2c4cc782",
   "metadata": {},
   "outputs": [],
   "source": [
    "def get_data(file):\n",
    "    data = pd.read_csv(file)\n",
    "    print(data.shape)\n",
    "    return data"
   ]
  },
  {
   "cell_type": "code",
   "execution_count": null,
   "id": "1225df11",
   "metadata": {},
   "outputs": [],
   "source": [
    "file = \"strong_rules_tiktok.csv\"\n",
    "strong_rules_tiktok = get_data(file)\n",
    "strong_rules_tiktok"
   ]
  },
  {
   "cell_type": "markdown",
   "id": "060717a3",
   "metadata": {},
   "source": [
    "## Sankey Visualisation of The Patterns in Tiktok Reviews"
   ]
  },
  {
   "cell_type": "code",
   "execution_count": null,
   "id": "01ba2f31",
   "metadata": {},
   "outputs": [],
   "source": [
    "rules_tiktok_sankey = pd.DataFrame()\n",
    "#rules_app_sankey['source']  = [','.join(set(map(str, fs))) for fs in strong_rules_tiktok['antecedents'] ]\n",
    "#rules_app_sankey['target'] = [','.join(set(map(str, fs))) for fs in strong_rules_tiktok['consequents'] ]\n",
    "\n",
    "\n",
    "rules_tiktok_sankey['source'] = strong_rules_tiktok.antecedents\n",
    "rules_tiktok_sankey['target']  = strong_rules_tiktok.consequents\n",
    "rules_tiktok_sankey"
   ]
  },
  {
   "cell_type": "code",
   "execution_count": null,
   "id": "4f6f8132",
   "metadata": {},
   "outputs": [],
   "source": [
    "#strong_rules_tiktok = strong_rules_tiktok.reset_index(drop=True)\n",
    "rules_tiktok_sankey['weight'] = strong_rules_tiktok['lift']\n",
    "rules_tiktok_sankey"
   ]
  },
  {
   "cell_type": "code",
   "execution_count": null,
   "id": "af469211",
   "metadata": {},
   "outputs": [],
   "source": [
    "# Load d3blocks\n",
    "from d3blocks import D3Blocks\n",
    "# Initialize\n",
    "d3 = D3Blocks()\n",
    "\n",
    "# Import example\n",
    "df = d3.import_example('energy')\n",
    "\n",
    "# Input parameters.\n",
    "d3.sankey(rules_tiktok_sankey,\n",
    "          title='Sankey - d3blocks',\n",
    "          filepath='sankey.html',\n",
    "          figsize=(1000, 750),\n",
    "          node={\"align\": \"justify\", \"width\": 15, \"padding\": 15, \"color\": \"currentColor\"},\n",
    "          link={\"color\": \"source-target\", \"stroke_opacity\": 0.5},\n",
    "          margin={\"top\": 5, \"right\": 1, \"bottom\": 5, \"left\": 1},\n",
    "          showfig=True,\n",
    "          overwrite=True)\n",
    "#\n",
    "\n",
    "#\n",
    "# Node properties\n",
    "d3.set_node_properties(rules_tiktok_sankey)\n",
    "#print(d3.node_properties)\n",
    "#\n",
    "d3.set_edge_properties(rules_tiktok_sankey, color='target', opacity='target')\n",
    "#print(d3.edge_properties)\n",
    "#\n",
    "# Show the chart\n",
    "d3.show()"
   ]
  }
 ],
 "metadata": {
  "kernelspec": {
   "display_name": "Python 3 (ipykernel)",
   "language": "python",
   "name": "python3"
  },
  "language_info": {
   "codemirror_mode": {
    "name": "ipython",
    "version": 3
   },
   "file_extension": ".py",
   "mimetype": "text/x-python",
   "name": "python",
   "nbconvert_exporter": "python",
   "pygments_lexer": "ipython3",
   "version": "3.10.9"
  }
 },
 "nbformat": 4,
 "nbformat_minor": 5
}
