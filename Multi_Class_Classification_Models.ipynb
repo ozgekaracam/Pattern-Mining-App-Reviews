{
 "cells": [
  {
   "cell_type": "code",
   "execution_count": null,
   "id": "58fc078c",
   "metadata": {},
   "outputs": [],
   "source": [
    "# Multi-Class Classification Models"
   ]
  },
  {
   "cell_type": "code",
   "execution_count": null,
   "id": "d3bfc190",
   "metadata": {},
   "outputs": [],
   "source": [
    "import warnings\n",
    "warnings.filterwarnings('ignore')"
   ]
  },
  {
   "cell_type": "code",
   "execution_count": null,
   "id": "8de4e255",
   "metadata": {},
   "outputs": [],
   "source": [
    "import matplotlib.pyplot as plt\n",
    "import pandas as pd\n",
    "from sklearn.feature_extraction.text import TfidfVectorizer\n",
    "from sklearn.model_selection import train_test_split\n",
    "from sklearn.svm import LinearSVC"
   ]
  },
  {
   "cell_type": "code",
   "execution_count": null,
   "id": "a9655368",
   "metadata": {},
   "outputs": [],
   "source": [
    "%store -r dataset_pred_bc"
   ]
  },
  {
   "cell_type": "code",
   "execution_count": null,
   "id": "9c1c5078",
   "metadata": {},
   "outputs": [],
   "source": [
    "dataset = dataset_pred_bc\n",
    "dataset"
   ]
  },
  {
   "cell_type": "code",
   "execution_count": null,
   "id": "94b509a8",
   "metadata": {},
   "outputs": [],
   "source": [
    "fig = plt.figure(figsize=(10, 6))\n",
    "ax = fig.add_subplot(111)\n",
    "\n",
    "dataset.groupby('cat1').clean_content.count().sort_values(ascending=True).plot.barh(ylim=0, color='#1f77b4', ax=ax)\n",
    "#plt.title('No. reviews of ethical concerns')\n",
    "plt.xlabel('Number of reviews')\n",
    "plt.ylabel('Ethical concern')\n",
    "\n",
    "plt.show()"
   ]
  },
  {
   "cell_type": "code",
   "execution_count": null,
   "id": "bb0390e3",
   "metadata": {},
   "outputs": [],
   "source": [
    "dataset.groupby('cat1').clean_content.count()"
   ]
  },
  {
   "cell_type": "code",
   "execution_count": null,
   "id": "562c7515",
   "metadata": {},
   "outputs": [],
   "source": [
    "def clean_no_concern(dataset):\n",
    "    df = dataset[pd.notnull(dataset['clean_content'])]\n",
    "    df = df.query(\"cat1 not in ['Other', 'none', 'Noise']\")\n",
    "    # get a function here to define top\n",
    "    df_count = df.groupby('cat1').clean_content.count().reset_index(name='counts')\n",
    "    top_list = df_count[df_count['counts'] > 50]['cat1']\n",
    "    top_list = top_list.to_list()\n",
    "    dataset = dataset.query(\"cat1  in @top_list\")\n",
    "    print(dataset.groupby('cat1').clean_content.count())\n",
    "    return dataset"
   ]
  },
  {
   "cell_type": "code",
   "execution_count": null,
   "id": "6eb42174",
   "metadata": {},
   "outputs": [],
   "source": [
    "dataset = clean_no_concern(dataset)"
   ]
  },
  {
   "cell_type": "code",
   "execution_count": null,
   "id": "16f7851a",
   "metadata": {},
   "outputs": [],
   "source": [
    "fig = plt.figure(figsize=(8,6))\n",
    "ax = fig.add_subplot(111)\n",
    "\n",
    "dataset.groupby('cat1').clean_content.count().sort_values(ascending=True).plot.barh(ylim=0, color='gray', edgecolor='black', ax=ax)\n",
    "plt.title('No. reviews of ethical concerns')\n",
    "plt.xlabel('no. reviews')\n",
    "plt.ylabel('ethical concerns')\n",
    "\n",
    "plt.show()"
   ]
  },
  {
   "cell_type": "code",
   "execution_count": null,
   "id": "6daa848a",
   "metadata": {},
   "outputs": [],
   "source": [
    "def factorize_concern(dataset):\n",
    "    dataset['cat1_id'] = dataset['cat1'].factorize()[0]\n",
    "    concern_id_df = dataset[['cat1', 'cat1_id']].drop_duplicates().sort_values('cat1_id')\n",
    "    concern_to_id = dict(concern_id_df.values)\n",
    "    id_to_concern = dict(concern_id_df[['cat1_id', 'cat1']].values)\n",
    "    return dataset, concern_id_df, concern_to_id, id_to_concern"
   ]
  },
  {
   "cell_type": "code",
   "execution_count": null,
   "id": "add84adb",
   "metadata": {},
   "outputs": [],
   "source": [
    "dataset, concern_id_df, concern_to_id, id_to_concern = factorize_concern(dataset)"
   ]
  },
  {
   "cell_type": "code",
   "execution_count": null,
   "id": "433b9c4f",
   "metadata": {},
   "outputs": [],
   "source": [
    "concern_to_id"
   ]
  },
  {
   "cell_type": "code",
   "execution_count": null,
   "id": "7f73a261",
   "metadata": {},
   "outputs": [],
   "source": [
    "def vectorizer(dataset):\n",
    "    tfidf = TfidfVectorizer(sublinear_tf=True, min_df=5, norm='l2', encoding='latin-1', ngram_range=(1, 2))\n",
    "    features = tfidf.fit_transform(dataset.clean_content).toarray()\n",
    "    labels = dataset.cat1_id\n",
    "    print(\"features: \", features.shape)\n",
    "    return  features, labels"
   ]
  },
  {
   "cell_type": "code",
   "execution_count": null,
   "id": "282c15ea",
   "metadata": {},
   "outputs": [],
   "source": [
    "features, labels = vectorizer(dataset)"
   ]
  },
  {
   "cell_type": "code",
   "execution_count": null,
   "id": "f1396485",
   "metadata": {},
   "outputs": [],
   "source": [
    "from sklearn.ensemble import RandomForestClassifier\n",
    "from sklearn.svm import SVC\n",
    "from sklearn.linear_model import LogisticRegression\n",
    "from sklearn.neural_network import MLPClassifier\n",
    "from sklearn.naive_bayes import MultinomialNB\n",
    "from sklearn.model_selection import train_test_split, StratifiedKFold, RepeatedStratifiedKFold, GridSearchCV, cross_val_score, cross_validate\n",
    "\n",
    "def init_models():\n",
    "    rf = RandomForestClassifier(random_state=1,\n",
    "                              bootstrap=False,\n",
    "                              max_depth=150,\n",
    "                              max_features='log2',\n",
    "                              min_samples_leaf=1,\n",
    "                              min_samples_split=0.0015,\n",
    "#                               min_samples_split=0.475,\n",
    "                              n_estimators=200)\n",
    "\n",
    "\n",
    "    svm = SVC(C=12, kernel='linear', random_state=5)\n",
    "\n",
    "    nb = MultinomialNB(alpha=0.4, fit_prior=False)\n",
    "\n",
    "    lr = LogisticRegression(\n",
    "                #             penalty='elasticnet',\n",
    "#                                 warm_start=True,\n",
    "                            solver='lbfgs',\n",
    "                            C=23,\n",
    "                            random_state=2,\n",
    "                            max_iter=2500\n",
    "    )\n",
    "\n",
    "    mlp = MLPClassifier(\n",
    "                        hidden_layer_sizes=(15,),\n",
    "                        random_state=5,\n",
    "#                         max_iter=3000,\n",
    "                        alpha=0.0008\n",
    "                       )\n",
    "\n",
    "\n",
    "    return [rf, svm, nb, lr, mlp]"
   ]
  },
  {
   "cell_type": "code",
   "execution_count": null,
   "id": "731ba457",
   "metadata": {},
   "outputs": [],
   "source": [
    "import numpy as np\n",
    "import pandas as pd\n",
    "from sklearn.metrics import accuracy_score, f1_score, recall_score, precision_score\n",
    "from sklearn.model_selection import StratifiedKFold\n",
    "from sklearn.utils import check_X_y\n",
    "import time\n",
    "from statistics import mean\n",
    "\n",
    "\n",
    "def run_models(X, y):\n",
    "    X, y = check_X_y(X, y)\n",
    "    skf = StratifiedKFold(n_splits=10, shuffle=True)\n",
    "\n",
    "    f1_test, rec_test, prec_test, accuracy_test = [[] for _ in range(5)], [[] for _ in range(5)], [[] for _ in range(5)], [[] for _ in range(5)]\n",
    "    f1_train, rec_train, prec_train, accuracy_train = [[] for _ in range(5)], [[] for _ in range(5)], [[] for _ in range(5)], [[] for _ in range(5)]\n",
    "\n",
    "    start_time = time.time()\n",
    "    models = init_models()\n",
    "\n",
    "    for j, m in enumerate(models):\n",
    "        for i, (train_index, test_index) in enumerate(skf.split(X, y)):\n",
    "\n",
    "            X_train, X_test = X[train_index], X[test_index]\n",
    "            y_train, y_test = y[train_index], y[test_index]\n",
    "\n",
    "            m.fit(X_train, y_train)\n",
    "\n",
    "            y_pred = m.predict(X_test)\n",
    "            y_pred_train = m.predict(X_train)\n",
    "            y_pred_lab = np.unique(y_pred)\n",
    "            y_train_lab = np.unique(y_train)\n",
    "\n",
    "            print(\"calculating scores fold: \" + str(i) + \"...\")\n",
    "            accuracy_test[j].append(accuracy_score(y_test, y_pred))\n",
    "            accuracy_train[j].append(accuracy_score(y_train, y_pred_train))\n",
    "\n",
    "            f1_test[j].append(f1_score(y_test, y_pred, labels=y_pred_lab, zero_division=0, average='macro'))\n",
    "            f1_train[j].append(f1_score(y_train, y_pred_train, labels=y_train_lab, zero_division=0, average='macro'))\n",
    "\n",
    "            rec_test[j].append(recall_score(y_test, y_pred, labels=y_pred_lab, zero_division=0, average='macro'))\n",
    "            rec_train[j].append(recall_score(y_train, y_pred_train, labels=y_train_lab, zero_division=0, average='macro'))\n",
    "\n",
    "            prec_test[j].append(precision_score(y_test, y_pred, labels=y_pred_lab, zero_division=0, average='macro'))\n",
    "            prec_train[j].append(precision_score(y_train, y_pred_train, labels=y_train_lab, zero_division=0, average='macro'))\n",
    "\n",
    "            print(\"preparing for next fold...\\n\")\n",
    "\n",
    "        print(\"\\npreparing for next classifier...\")\n",
    "        print(\"--- %s seconds ---\" % (time.time() - start_time))\n",
    "    df = pd.DataFrame({\"classifier\": [\"RF\", \"SVM\", \"MNB\", \"LR\", \"MLP\"],\n",
    "                           \"test_mean_accuracy\": [[mean(acc)] for acc in accuracy_test],\n",
    "                           \"test_mean_f1\": [[mean(f1)] for f1 in f1_test],\n",
    "                           \"test_mean_recall\": [[mean(rec)] for rec in rec_test],\n",
    "                           \"test_mean_precision\": [[mean(prec)] for prec in prec_test],\n",
    "                           \"train_mean_accuracy\": [[mean(acc)] for acc in accuracy_train],\n",
    "                           \"train_mean_f1\": [[mean(f1)] for f1 in f1_train],\n",
    "                           \"train_mean_recall\": [[mean(rec)] for rec in rec_train],\n",
    "                           \"train_mean_precision\": [[mean(prec)] for prec in prec_train],\n",
    "                           \"running time (sec)\": [time.time() - start_time]*5\n",
    "                          })\n",
    "    df.to_csv(\"multi_final.csv\")\n",
    "    print(\"Results saved to multi_final.csv\")\n",
    "    print(df)\n",
    "    return df\n"
   ]
  },
  {
   "cell_type": "code",
   "execution_count": null,
   "id": "e0de135e",
   "metadata": {},
   "outputs": [],
   "source": [
    "run_models(features, labels)"
   ]
  }
 ],
 "metadata": {
  "kernelspec": {
   "display_name": "Python 3 (ipykernel)",
   "language": "python",
   "name": "python3"
  },
  "language_info": {
   "codemirror_mode": {
    "name": "ipython",
    "version": 3
   },
   "file_extension": ".py",
   "mimetype": "text/x-python",
   "name": "python",
   "nbconvert_exporter": "python",
   "pygments_lexer": "ipython3",
   "version": "3.10.9"
  }
 },
 "nbformat": 4,
 "nbformat_minor": 5
}
